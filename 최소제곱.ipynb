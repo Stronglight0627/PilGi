{
  "nbformat": 4,
  "nbformat_minor": 0,
  "metadata": {
    "colab": {
      "name": "최소제곱.ipynb",
      "provenance": [],
      "authorship_tag": "ABX9TyNbwTKVBNvcvFZUB1oRBL5n",
      "include_colab_link": true
    },
    "kernelspec": {
      "name": "python3",
      "display_name": "Python 3"
    },
    "language_info": {
      "name": "python"
    }
  },
  "cells": [
    {
      "cell_type": "markdown",
      "metadata": {
        "id": "view-in-github",
        "colab_type": "text"
      },
      "source": [
        "<a href=\"https://colab.research.google.com/github/Stronglight0627/PilGi/blob/main/%EC%B5%9C%EC%86%8C%EC%A0%9C%EA%B3%B1.ipynb\" target=\"_parent\"><img src=\"https://colab.research.google.com/assets/colab-badge.svg\" alt=\"Open In Colab\"/></a>"
      ]
    },
    {
      "cell_type": "code",
      "execution_count": null,
      "metadata": {
        "colab": {
          "base_uri": "https://localhost:8080/"
        },
        "id": "cOebLUreuIcr",
        "outputId": "1af46107-cc7c-4362-b932-d67f40847571"
      },
      "outputs": [
        {
          "output_type": "stream",
          "name": "stdout",
          "text": [
            "mean x :  5.0\n",
            "mean y :  90.5\n",
            "분모 :  20.0\n",
            "분자 :  46.0\n",
            "기울기 a =  2.3\n",
            "y 절편 b =  79.0\n"
          ]
        }
      ],
      "source": [
        "import numpy as np\n",
        "x = [2, 4 , 6 , 8]\n",
        "y = [81, 93, 91, 97]\n",
        "\n",
        "mx = np.mean(x)\n",
        "my = np.mean(y)\n",
        "print(\"mean x : \", mx)\n",
        "print(\"mean y : \", my)\n",
        "\n",
        "divisor = sum([(mx - i)**2 for i in x])\n",
        "def top(x, mx, y, my):\n",
        "  d = 0 \n",
        "  for i in range(len(x)):\n",
        "    d += (x[i] - mx) * (y[i] - my)\n",
        "  return d\n",
        "dividend = top(x, mx, y, my)\n",
        "\n",
        "print('분모 : ', divisor)\n",
        "print('분자 : ', dividend)\n",
        "\n",
        "a = dividend / divisor\n",
        "b = my - (mx * a)\n",
        "\n",
        "print('기울기 a = ', a)\n",
        "print('y 절편 b = ', b)\n",
        "\n",
        "\n"
      ]
    }
  ]
}