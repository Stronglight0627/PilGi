{
  "nbformat": 4,
  "nbformat_minor": 0,
  "metadata": {
    "colab": {
      "name": "인공신경망으로 학습.ipynb",
      "provenance": [],
      "authorship_tag": "ABX9TyMeRcqcblKlC0bymWpJg/sq",
      "include_colab_link": true
    },
    "kernelspec": {
      "name": "python3",
      "display_name": "Python 3"
    },
    "language_info": {
      "name": "python"
    }
  },
  "cells": [
    {
      "cell_type": "markdown",
      "metadata": {
        "id": "view-in-github",
        "colab_type": "text"
      },
      "source": [
        "<a href=\"https://colab.research.google.com/github/Stronglight0627/PilGi/blob/main/%EC%9D%B8%EA%B3%B5%EC%8B%A0%EA%B2%BD%EB%A7%9D%EC%9C%BC%EB%A1%9C_%ED%95%99%EC%8A%B5.ipynb\" target=\"_parent\"><img src=\"https://colab.research.google.com/assets/colab-badge.svg\" alt=\"Open In Colab\"/></a>"
      ]
    },
    {
      "cell_type": "code",
      "execution_count": 4,
      "metadata": {
        "colab": {
          "base_uri": "https://localhost:8080/"
        },
        "id": "gEVowqzeeGn7",
        "outputId": "dd485a12-2140-4e34-a85d-99457d37f6ac"
      },
      "outputs": [
        {
          "output_type": "stream",
          "name": "stdout",
          "text": [
            "(48000, 784) (48000,)\n",
            "(12000, 784) (12000,)\n"
          ]
        }
      ],
      "source": [
        "from tensorflow import keras\n",
        "(train_input, train_target), (test_input, test_target) = keras.datasets.fashion_mnist.load_data()\n",
        "train_scaled = train_input/255.0#데이터 정규화\n",
        "train_scaled = train_scaled.reshape(-1, 28*28)#데이터 1차원배열로 나열\n",
        "\n",
        "from sklearn.model_selection import train_test_split\n",
        "train_scaled, val_scaled, train_target, val_target = train_test_split(\n",
        "    train_scaled, train_target, test_size=0.2, random_state=42)\n",
        "\n",
        "print(train_scaled.shape, train_target.shape)\n",
        "print(val_scaled.shape, val_target.shape) "
      ]
    },
    {
      "cell_type": "code",
      "source": [
        "#레이어만들기\n",
        "dense = keras.layers.Dense(10, activation='softmax', input_shape=(784,))\n",
        "model = keras.Sequential(dense)\n",
        "#모델설정\n",
        "model.compile(loss='sparse_categorical_crossentropy', metrics='accuracy')\n",
        "#print(train_target[:10])\n",
        "#학습\n",
        "model.fit(train_scaled, train_target, epochs=5)"
      ],
      "metadata": {
        "colab": {
          "base_uri": "https://localhost:8080/"
        },
        "id": "x-Sokw5siWnp",
        "outputId": "8b0336de-fd2c-4062-b899-5cabb2f253f5"
      },
      "execution_count": 12,
      "outputs": [
        {
          "output_type": "stream",
          "name": "stdout",
          "text": [
            "Epoch 1/5\n",
            "1500/1500 [==============================] - 4s 2ms/step - loss: 0.6111 - accuracy: 0.7915\n",
            "Epoch 2/5\n",
            "1500/1500 [==============================] - 2s 2ms/step - loss: 0.4791 - accuracy: 0.8390\n",
            "Epoch 3/5\n",
            "1500/1500 [==============================] - 3s 2ms/step - loss: 0.4571 - accuracy: 0.8488\n",
            "Epoch 4/5\n",
            "1500/1500 [==============================] - 3s 2ms/step - loss: 0.4443 - accuracy: 0.8511\n",
            "Epoch 5/5\n",
            "1500/1500 [==============================] - 3s 2ms/step - loss: 0.4368 - accuracy: 0.8555\n"
          ]
        },
        {
          "output_type": "execute_result",
          "data": {
            "text/plain": [
              "<keras.callbacks.History at 0x7fe009972d50>"
            ]
          },
          "metadata": {},
          "execution_count": 12
        }
      ]
    },
    {
      "cell_type": "code",
      "source": [
        "#평가\n",
        "model.evaluate(val_scaled, val_target)"
      ],
      "metadata": {
        "colab": {
          "base_uri": "https://localhost:8080/"
        },
        "id": "CA9SFZgijBWI",
        "outputId": "cb12115e-9f83-46b0-d730-f602121b0e12"
      },
      "execution_count": 13,
      "outputs": [
        {
          "output_type": "stream",
          "name": "stdout",
          "text": [
            "375/375 [==============================] - 1s 2ms/step - loss: 0.4444 - accuracy: 0.8497\n"
          ]
        },
        {
          "output_type": "execute_result",
          "data": {
            "text/plain": [
              "[0.444426029920578, 0.8497499823570251]"
            ]
          },
          "metadata": {},
          "execution_count": 13
        }
      ]
    },
    {
      "cell_type": "code",
      "source": [
        ""
      ],
      "metadata": {
        "id": "ipQH1evSjQj_"
      },
      "execution_count": null,
      "outputs": []
    }
  ]
}